{
 "cells": [
  {
   "cell_type": "markdown",
   "id": "392405cd",
   "metadata": {},
   "source": [
    "# LAB | A/B Testing in Python"
   ]
  },
  {
   "cell_type": "markdown",
   "id": "14cf8128",
   "metadata": {},
   "source": [
    "### Challenge 1: 🚀 *Comparing Two Website Versions Using Hypothesis Testing*  "
   ]
  },
  {
   "cell_type": "markdown",
   "id": "1099b7e3",
   "metadata": {},
   "source": [
    "### **Objective**: \n",
    "Perform an A/B test to determine if a new webpage design (`Version B`) leads to a higher **click-through rate (CTR)** than the original (`Version A`).  "
   ]
  },
  {
   "cell_type": "markdown",
   "id": "57115b11",
   "metadata": {},
   "source": [
    "#### 📌 **Project Overview**  \n",
    "We’ll:  \n",
    "1. **Simulate** A/B test data (users & clicks).  \n",
    "2. **Analyze** the results using statistical tests.  \n",
    "3. **Conclude** whether `Version B` performs better.  \n",
    "\n"
   ]
  },
  {
   "cell_type": "markdown",
   "id": "b02d75f8",
   "metadata": {},
   "source": [
    "### **Problem Statement**  \n",
    "You are a data analyst at an e-commerce company. The team wants to test if a new webpage design (`Version B`) increases click-through rates (CTR) compared to the original (`Version A`).  \n",
    "\n",
    "### **Tasks**  \n",
    "1. **Simulate Data**:  \n",
    "   - Generate synthetic data for `Version A` (1000 visitors, 150 clicks) and `Version B` (1050 visitors, 180 clicks).  \n",
    "2. **Statistical Test**:  \n",
    "   - Perform a **Statistical Test** to compare CTRs.  \n",
    "3. **Interpretation**:  \n",
    "   - Determine if the difference is statistically significant (use α = 0.05).  \n",
    "4. **Visualization**:  \n",
    "   - Plot the CTRs for both versions using appropriate chart.  \n",
    "\n",
    "**Deliverables**:  \n",
    "- Code for simulation, testing, and visualization.  \n",
    "- Written conclusion (1–2 sentences) on whether `Version B` performs better.  "
   ]
  },
  {
   "cell_type": "markdown",
   "id": "c0fdd42c",
   "metadata": {},
   "source": [
    "#### 🛠 **Setup & Data Generation**  \n",
    "First, let’s create synthetic data for the experiment.  \n"
   ]
  },
  {
   "cell_type": "code",
   "execution_count": 35,
   "id": "fd3ceeb4",
   "metadata": {},
   "outputs": [],
   "source": [
    "### Import Libraries\n",
    "import numpy as np\n",
    "import pandas as pd\n",
    "from scipy import stats\n",
    "import matplotlib.pyplot as plt\n",
    "import seaborn as sns"
   ]
  },
  {
   "cell_type": "markdown",
   "id": "7471a52c",
   "metadata": {},
   "source": [
    "> Simulate User Data, We’ll assume:\n",
    "\n",
    "- Version A: 1000 visitors, 150 clicks.\n",
    "\n",
    "- Version B: 1050 visitors, 180 clicks."
   ]
  },
  {
   "cell_type": "code",
   "execution_count": 2,
   "id": "8f0b5265",
   "metadata": {},
   "outputs": [],
   "source": [
    "# Simulate data\n",
    "np.random.seed(42)\n",
    "visitors_a = 1000\n",
    "clicks_a = 150\n",
    "visitors_b = 1050\n",
    "clicks_b = 180"
   ]
  },
  {
   "cell_type": "code",
   "execution_count": 16,
   "id": "76a5defb",
   "metadata": {},
   "outputs": [
    {
     "name": "stdout",
     "output_type": "stream",
     "text": [
      "Version A DataFrame:\n",
      "   Visitor_A  Clicked\n",
      "0          1        1\n",
      "1          2        1\n",
      "2          3        1\n",
      "3          4        1\n",
      "4          5        1\n",
      "\n",
      "Version B DataFrame:\n",
      "   Visitor_B  Clicked\n",
      "0          1        1\n",
      "1          2        1\n",
      "2          3        1\n",
      "3          4        1\n",
      "4          5        1\n"
     ]
    }
   ],
   "source": [
    "# Generate DataFrame for Version A\n",
    "data_a = {'Visitor_A': range(1, visitors_a + 1), \n",
    "          'Clicked': [1 if i < clicks_a else 0 for i in range(visitors_a)]}\n",
    "df_a = pd.DataFrame(data_a)\n",
    "\n",
    "# Generate DataFrame for Version B\n",
    "data_b = {'Visitor_B': range(1, visitors_b + 1), \n",
    "          'Clicked': [1 if i < clicks_b else 0 for i in range(visitors_b)]}\n",
    "df_b = pd.DataFrame(data_b)\n",
    "\n",
    "# Display the first few rows of each DataFrame\n",
    "print(\"Version A DataFrame:\")\n",
    "print(df_a.head())\n",
    "print(\"\\nVersion B DataFrame:\")\n",
    "print(df_b.head())"
   ]
  },
  {
   "cell_type": "markdown",
   "id": "b007477e",
   "metadata": {},
   "source": [
    "📊 Perform A/B Test\n",
    "We’ll use a Chi-Square Test to compare proportions.\n",
    "\n",
    "- Hypotheses"
   ]
  },
  {
   "cell_type": "code",
   "execution_count": 17,
   "id": "27a5d8e8",
   "metadata": {},
   "outputs": [],
   "source": [
    "df_a_grouped = df_a[[\"Clicked\", \"Visitor_A\"]].groupby(\"Clicked\").count()\n",
    "df_b_grouped = df_b[[\"Clicked\", \"Visitor_B\"]].groupby(\"Clicked\").count()"
   ]
  },
  {
   "cell_type": "code",
   "execution_count": 23,
   "id": "abb78771",
   "metadata": {},
   "outputs": [],
   "source": [
    "df_combined = pd.concat([df_a_grouped, df_b_grouped], axis=1)"
   ]
  },
  {
   "cell_type": "code",
   "execution_count": 32,
   "id": "7b10c736",
   "metadata": {},
   "outputs": [],
   "source": [
    "# Null Hypothesis (H₀): `feature has no impact`.\n",
    "# Alternative Hypothesis `feature has an impact`.\n",
    "stat, p_value, dof, expected = stats.chi2_contingency(df_combined)"
   ]
  },
  {
   "cell_type": "code",
   "execution_count": 33,
   "id": "1f9fda9c",
   "metadata": {},
   "outputs": [
    {
     "data": {
      "text/plain": [
       "np.float64(0.20785388523374118)"
      ]
     },
     "execution_count": 33,
     "metadata": {},
     "output_type": "execute_result"
    }
   ],
   "source": [
    "p_value"
   ]
  },
  {
   "cell_type": "code",
   "execution_count": null,
   "id": "9f9fb377",
   "metadata": {},
   "outputs": [],
   "source": [
    "# -> no impact"
   ]
  },
  {
   "cell_type": "markdown",
   "id": "c925ed9f",
   "metadata": {},
   "source": [
    "📈 Visualization"
   ]
  },
  {
   "cell_type": "code",
   "execution_count": 68,
   "id": "fdded9e2",
   "metadata": {},
   "outputs": [
    {
     "data": {
      "image/png": "[encoded data removed]",
      "text/plain": [
       "<Figure size 800x500 with 1 Axes>"
      ]
     },
     "metadata": {},
     "output_type": "display_data"
    }
   ],
   "source": [
    "\n",
    "# Melt the dataframe for easier plotting with seaborn\n",
    "df_melted = df_combined.reset_index().melt(id_vars='Clicked', var_name='Visitor', value_name='Count')\n",
    "\n",
    "# Plot\n",
    "plt.figure(figsize=(8,5))\n",
    "sns.barplot(x='Clicked', y='Count', hue='Visitor', data=df_melted)\n",
    "\n",
    "plt.title('Clicks vs Non-Clicks for Visitor_A and Visitor_B')\n",
    "plt.xlabel('Clicked (0 = No, 1 = Yes)')\n",
    "plt.ylabel('Count')\n",
    "plt.show()\n"
   ]
  },
  {
   "cell_type": "markdown",
   "id": "afdb44b2",
   "metadata": {},
   "source": [
    "## Challenge 2: 🚀 A/B Testing Challenge with Real Data"
   ]
  },
  {
   "cell_type": "markdown",
   "id": "67bd5560",
   "metadata": {},
   "source": [
    "#### **Objective**:  \n",
    "1. Analyze **real A/B test data** (from Kaggle) to compare conversion rates.  \n",
    "2. Use **bootstrapping** to estimate confidence intervals.  \n",
    "\n",
    "---\n",
    "\n",
    "#### 📌 **Project Overview**  \n",
    "We’ll:  \n",
    "1. **Load real A/B test data** (user sessions and conversions).  \n",
    "2. **Compare conversion rates** using statistical tests.  \n",
    "3. **Apply bootstrapping** to validate results.  \n",
    "\n"
   ]
  },
  {
   "cell_type": "markdown",
   "id": "ec536e52",
   "metadata": {},
   "source": [
    "### **Problem Statement**  \n",
    "Use the [Kaggle Marketing A/B Test dataset](https://www.kaggle.com/datasets/faviovaz/marketing-ab-testing) to analyze if a new marketing campaign (`Group B`) improves conversion rates over the old campaign (`Group A`).  \n",
    "\n",
    "### **Tasks**  \n",
    "1. **Data Preparation**:  \n",
    "   - Load the dataset and explore key metrics (sample sizes, conversion rates).  \n",
    "2. **Hypothesis Testing**:  \n",
    "   - Perform a **Statistical Test** to compare conversions between groups.  \n",
    "3. **Bootstrapping**:  \n",
    "   - Implement bootstrapping (`n=1000` resamples) to estimate 95% confidence intervals for conversion rates.  \n",
    "4. **Visualization**:  \n",
    "   -Compare conversion rates for both groups.  \n",
    "\n",
    "**Deliverables**:  \n",
    "- Code for analysis and bootstrapping.  \n",
    "- Answers:  \n",
    "  - P-value and statistical conclusion.  \n",
    "  - Confidence intervals for both groups.  "
   ]
  },
  {
   "cell_type": "markdown",
   "id": "812e92c7",
   "metadata": {},
   "source": [
    "#### 🛠 **Setup & Data Loading**  \n"
   ]
  },
  {
   "cell_type": "markdown",
   "id": "55a40acd",
   "metadata": {},
   "source": [
    "> Load Open-Source Dataset\n",
    "We’ll use the [\"A/B Test Results\"](https://www.kaggle.com/datasets/faviovaz/marketing-ab-testing) dataset from Kaggle."
   ]
  },
  {
   "cell_type": "code",
   "execution_count": 73,
   "id": "1824729f",
   "metadata": {},
   "outputs": [],
   "source": [
    "# Load data (ensure CSV is in your working directory)\n",
    "data = pd.read_csv(\"./data/marketing_AB.csv\")  # Download from Kaggle first!"
   ]
  },
  {
   "cell_type": "code",
   "execution_count": 74,
   "id": "af48cbca",
   "metadata": {},
   "outputs": [
    {
     "data": {
      "text/html": [
       "<div>\n",
       "<style scoped>\n",
       "    .dataframe tbody tr th:only-of-type {\n",
       "        vertical-align: middle;\n",
       "    }\n",
       "\n",
       "    .dataframe tbody tr th {\n",
       "        vertical-align: top;\n",
       "    }\n",
       "\n",
       "    .dataframe thead th {\n",
       "        text-align: right;\n",
       "    }\n",
       "</style>\n",
       "<table border=\"1\" class=\"dataframe\">\n",
       "  <thead>\n",
       "    <tr style=\"text-align: right;\">\n",
       "      <th></th>\n",
       "      <th>Unnamed: 0</th>\n",
       "      <th>user id</th>\n",
       "      <th>test group</th>\n",
       "      <th>converted</th>\n",
       "      <th>total ads</th>\n",
       "      <th>most ads day</th>\n",
       "      <th>most ads hour</th>\n",
       "    </tr>\n",
       "  </thead>\n",
       "  <tbody>\n",
       "    <tr>\n",
       "      <th>0</th>\n",
       "      <td>0</td>\n",
       "      <td>1069124</td>\n",
       "      <td>ad</td>\n",
       "      <td>False</td>\n",
       "      <td>130</td>\n",
       "      <td>Monday</td>\n",
       "      <td>20</td>\n",
       "    </tr>\n",
       "    <tr>\n",
       "      <th>1</th>\n",
       "      <td>1</td>\n",
       "      <td>1119715</td>\n",
       "      <td>ad</td>\n",
       "      <td>False</td>\n",
       "      <td>93</td>\n",
       "      <td>Tuesday</td>\n",
       "      <td>22</td>\n",
       "    </tr>\n",
       "    <tr>\n",
       "      <th>2</th>\n",
       "      <td>2</td>\n",
       "      <td>1144181</td>\n",
       "      <td>ad</td>\n",
       "      <td>False</td>\n",
       "      <td>21</td>\n",
       "      <td>Tuesday</td>\n",
       "      <td>18</td>\n",
       "    </tr>\n",
       "    <tr>\n",
       "      <th>3</th>\n",
       "      <td>3</td>\n",
       "      <td>1435133</td>\n",
       "      <td>ad</td>\n",
       "      <td>False</td>\n",
       "      <td>355</td>\n",
       "      <td>Tuesday</td>\n",
       "      <td>10</td>\n",
       "    </tr>\n",
       "    <tr>\n",
       "      <th>4</th>\n",
       "      <td>4</td>\n",
       "      <td>1015700</td>\n",
       "      <td>ad</td>\n",
       "      <td>False</td>\n",
       "      <td>276</td>\n",
       "      <td>Friday</td>\n",
       "      <td>14</td>\n",
       "    </tr>\n",
       "  </tbody>\n",
       "</table>\n",
       "</div>"
      ],
      "text/plain": [
       "   Unnamed: 0  user id test group  converted  total ads most ads day  \\\n",
       "0           0  1069124         ad      False        130       Monday   \n",
       "1           1  1119715         ad      False         93      Tuesday   \n",
       "2           2  1144181         ad      False         21      Tuesday   \n",
       "3           3  1435133         ad      False        355      Tuesday   \n",
       "4           4  1015700         ad      False        276       Friday   \n",
       "\n",
       "   most ads hour  \n",
       "0             20  \n",
       "1             22  \n",
       "2             18  \n",
       "3             10  \n",
       "4             14  "
      ]
     },
     "execution_count": 74,
     "metadata": {},
     "output_type": "execute_result"
    }
   ],
   "source": [
    "data.head()"
   ]
  },
  {
   "cell_type": "markdown",
   "id": "16057220",
   "metadata": {},
   "source": [
    "📊 Part 1: Traditional A/B Test\n",
    "> Calculate Conversion Rates"
   ]
  },
  {
   "cell_type": "code",
   "execution_count": 82,
   "id": "56fab67b",
   "metadata": {},
   "outputs": [],
   "source": [
    "# TODO\n",
    "# Insert your code HERE\n",
    "conversion_per_category = data[[\"test group\", \"converted\"]]"
   ]
  },
  {
   "cell_type": "code",
   "execution_count": 99,
   "id": "85e0ba16",
   "metadata": {},
   "outputs": [],
   "source": [
    "contingency_table = pd.crosstab(data[\"test group\"], data[\"converted\"])"
   ]
  },
  {
   "cell_type": "markdown",
   "id": "a1321446",
   "metadata": {},
   "source": [
    "> Statistical Test"
   ]
  },
  {
   "cell_type": "code",
   "execution_count": 139,
   "id": "decf60de",
   "metadata": {},
   "outputs": [
    {
     "name": "stdout",
     "output_type": "stream",
     "text": [
      "1.9989623063390075e-13\n"
     ]
    }
   ],
   "source": [
    "# Insert your code HERE\n",
    "stat, p_value, dof, expected = stats.chi2_contingency(contingency_table)\n",
    "print(p_value)"
   ]
  },
  {
   "cell_type": "code",
   "execution_count": 140,
   "id": "5aad8b16",
   "metadata": {},
   "outputs": [
    {
     "data": {
      "text/plain": [
       "(np.float64(7.3700781265454145), np.float64(8.526403580779863e-14))"
      ]
     },
     "execution_count": 140,
     "metadata": {},
     "output_type": "execute_result"
    }
   ],
   "source": [
    "from statsmodels.stats.proportion import proportions_ztest\n",
    "# Counts of conversions (successes)\n",
    "counts = [\n",
    "    contingency_table.loc[\"ad\", True],   # Group B (ad)\n",
    "    contingency_table.loc[\"psa\", True]   # Group A (psa)\n",
    "]\n",
    "\n",
    "# Total observations per group\n",
    "nobs = [\n",
    "    contingency_table.loc[\"ad\", True] + contingency_table.loc[\"ad\", False],\n",
    "    contingency_table.loc[\"psa\", True] + contingency_table.loc[\"psa\", False]\n",
    "]\n",
    "\n",
    "# Run z-test\n",
    "stat, pval = proportions_ztest(count=counts, nobs=nobs, alternative='larger')  # use 'larger' if B > A is your hypothesis\n",
    "stat, pval"
   ]
  },
  {
   "cell_type": "markdown",
   "id": "7dd2ccd0",
   "metadata": {},
   "source": [
    "#### EXTRA 📈 Part 2: Bootstrapping Challenge\n",
    "**Why Bootstrapping?**\n",
    " - Bootstrapping helps estimate confidence intervals for conversion rates by resampling data.\n",
    "3. **Bootstrapping**:  \n",
    "   - Implement bootstrapping (`n=1000` resamples) to estimate 95% confidence intervals for conversion rates.\n",
    "> Bootstrap Function"
   ]
  },
  {
   "cell_type": "code",
   "execution_count": 143,
   "id": "900f6a5b",
   "metadata": {},
   "outputs": [
    {
     "data": {
      "text/html": [
       "<div>\n",
       "<style scoped>\n",
       "    .dataframe tbody tr th:only-of-type {\n",
       "        vertical-align: middle;\n",
       "    }\n",
       "\n",
       "    .dataframe tbody tr th {\n",
       "        vertical-align: top;\n",
       "    }\n",
       "\n",
       "    .dataframe thead th {\n",
       "        text-align: right;\n",
       "    }\n",
       "</style>\n",
       "<table border=\"1\" class=\"dataframe\">\n",
       "  <thead>\n",
       "    <tr style=\"text-align: right;\">\n",
       "      <th>converted</th>\n",
       "      <th>False</th>\n",
       "      <th>True</th>\n",
       "    </tr>\n",
       "    <tr>\n",
       "      <th>test group</th>\n",
       "      <th></th>\n",
       "      <th></th>\n",
       "    </tr>\n",
       "  </thead>\n",
       "  <tbody>\n",
       "    <tr>\n",
       "      <th>ad</th>\n",
       "      <td>550154</td>\n",
       "      <td>14423</td>\n",
       "    </tr>\n",
       "    <tr>\n",
       "      <th>psa</th>\n",
       "      <td>23104</td>\n",
       "      <td>420</td>\n",
       "    </tr>\n",
       "  </tbody>\n",
       "</table>\n",
       "</div>"
      ],
      "text/plain": [
       "converted    False  True \n",
       "test group               \n",
       "ad          550154  14423\n",
       "psa          23104    420"
      ]
     },
     "execution_count": 143,
     "metadata": {},
     "output_type": "execute_result"
    }
   ],
   "source": [
    "contingency_table"
   ]
  },
  {
   "cell_type": "code",
   "execution_count": 141,
   "id": "1ad5d36a",
   "metadata": {},
   "outputs": [],
   "source": [
    "# Insert your code HERE\n",
    "n=1000\n",
    "sample_size = 50\n",
    "\n",
    "population = data[\"converted\"]"
   ]
  },
  {
   "cell_type": "code",
   "execution_count": null,
   "id": "47fb7b01",
   "metadata": {},
   "outputs": [],
   "source": [
    "np.choose()"
   ]
  },
  {
   "cell_type": "code",
   "execution_count": 145,
   "id": "bad345e2",
   "metadata": {},
   "outputs": [],
   "source": [
    "# Step 1: Convert 'converted' column to integer for easier math (optional)\n",
    "data['converted'] = data['converted'].astype(int)  # True → 1, False → 0\n",
    "\n",
    "# Step 2: Create separate arrays for each group\n",
    "ad_data = data[data['test group'] == 'ad']['converted'].values\n",
    "psa_data = data[data['test group'] == 'psa']['converted'].values\n",
    "\n",
    "# Step 3: Bootstrapping function (same as before)\n",
    "def bootstrap_conversion(data, n_iterations=1000):\n",
    "    n = len(data)\n",
    "    return np.array([\n",
    "        np.mean(np.random.choice(data, size=n, replace=True))\n",
    "        for _ in range(n_iterations)\n",
    "    ])\n",
    "\n",
    "# Step 4: Run bootstrapping\n",
    "ad_boot = bootstrap_conversion(ad_data)\n",
    "psa_boot = bootstrap_conversion(psa_data)\n",
    "\n",
    "# Step 5: Confidence intervals\n",
    "ad_ci = np.percentile(ad_boot, [2.5, 97.5])\n",
    "psa_ci = np.percentile(psa_boot, [2.5, 97.5])\n",
    "\n",
    "# Optional: Difference in conversion rates\n",
    "diff_boot = ad_boot - psa_boot\n",
    "diff_ci = np.percentile(diff_boot, [2.5, 97.5])\n"
   ]
  },
  {
   "cell_type": "markdown",
   "id": "e9015c19",
   "metadata": {},
   "source": [
    ">Visualize Resultsm"
   ]
  },
  {
   "cell_type": "code",
   "execution_count": 157,
   "id": "8a737b3f",
   "metadata": {},
   "outputs": [
    {
     "data": {
      "image/png": "[encoded data removed]",
      "text/plain": [
       "<Figure size 1200x700 with 1 Axes>"
      ]
     },
     "metadata": {},
     "output_type": "display_data"
    }
   ],
   "source": [
    "# Set style\n",
    "sns.set(style=\"whitegrid\")\n",
    "\n",
    "plt.figure(figsize=(12, 7))\n",
    "\n",
    "# Plot bootstrapped conversion rates\n",
    "sns.kdeplot(ad_boot, label='Group A (ad)', fill=True, color='blue', alpha=0.4)\n",
    "sns.kdeplot(psa_boot, label='Group B (psa)', fill=True, color='orange', alpha=0.4)\n",
    "\n",
    "# Plot difference in conversion rates\n",
    "sns.kdeplot(diff_boot, label='Difference (ad - psa)', fill=True, color='green', alpha=0.4)\n",
    "\n",
    "# Mark confidence intervals with vertical lines\n",
    "for ci, color, label in zip([ad_ci, psa_ci, diff_ci], ['blue', 'orange', 'green'], ['ad CI', 'psa CI', 'diff CI']):\n",
    "    plt.axvline(ci[0], color=color, linestyle='--', alpha=0.7)\n",
    "    plt.axvline(ci[1], color=color, linestyle='--', alpha=0.7)\n",
    "\n",
    "plt.title('Bootstrap Distributions of Conversion Rates and Their Difference')\n",
    "plt.xlabel('Conversion Rate')\n",
    "plt.ylabel('Density')\n",
    "plt.legend()\n",
    "plt.show()"
   ]
  },
  {
   "cell_type": "markdown",
   "id": "f4e2aec7",
   "metadata": {},
   "source": [
    "## (Bonus) Challenge 3: 🎮 Advanced A/B Testing Challenge: Cookie Cats Retention Analysis "
   ]
  },
  {
   "cell_type": "markdown",
   "id": "aa0a8423",
   "metadata": {},
   "source": [
    "#### **Objective**:  \n",
    "1. Analyze player **retention rates** in the `cookie_cats` mobile game A/B test.  \n",
    "2. Implement **sequential testing** (to avoid peeking at results prematurely).  \n",
    "3. Conduct **power analysis** to determine optimal sample size.  \n",
    "\n",
    "### **Problem Statement**  \n",
    "Analyze the [Cookie Cats dataset](https://www.kaggle.com/datasets/yufengsui/mobile-games-ab-testing) to determine if moving the game’s first gate from level 30 (`gate_30`) to level 40 (`gate_40`) affects player retention.  \n",
    "\n",
    "### **Tasks**  \n",
    "1. **Retention Analysis**:  \n",
    "   - Compare **1-day retention rates** between `gate_30` and `gate_40` using a Z-test.  \n",
    "2. **Sequential Testing**:  \n",
    "   - Simulate checking results at intervals (every 500 users) to avoid \"peeking bias.\"  \n",
    "3. **Power Analysis**:  \n",
    "   - Calculate the required sample size to detect a 2% difference in retention (α = 0.05, power = 0.8).  \n",
    "4. **Optional**:  \n",
    "   - Repeat analysis for **7-day retention**.  \n",
    "\n",
    "**Deliverables**:  \n",
    "- Code for retention comparison, sequential testing, and power analysis.  \n",
    "- Written summary:  \n",
    "  - Does `gate_40` significantly impact retention?  \n",
    "  - How does sequential testing affect decision-making?  "
   ]
  },
  {
   "cell_type": "markdown",
   "id": "167d7506",
   "metadata": {},
   "source": [
    "\n",
    "\n",
    "### 🛠 **Setup & Data Loading**  \n"
   ]
  },
  {
   "cell_type": "code",
   "execution_count": 158,
   "id": "9bf078ee",
   "metadata": {},
   "outputs": [],
   "source": [
    "# Load dataset \n",
    "data = pd.read_csv(\"./data/cookie_cats.csv\")  # Columns: userid, version, sum_gamerounds, retention_1, retention_7"
   ]
  },
  {
   "cell_type": "code",
   "execution_count": 159,
   "id": "27bb1fff",
   "metadata": {},
   "outputs": [
    {
     "data": {
      "text/html": [
       "<div>\n",
       "<style scoped>\n",
       "    .dataframe tbody tr th:only-of-type {\n",
       "        vertical-align: middle;\n",
       "    }\n",
       "\n",
       "    .dataframe tbody tr th {\n",
       "        vertical-align: top;\n",
       "    }\n",
       "\n",
       "    .dataframe thead th {\n",
       "        text-align: right;\n",
       "    }\n",
       "</style>\n",
       "<table border=\"1\" class=\"dataframe\">\n",
       "  <thead>\n",
       "    <tr style=\"text-align: right;\">\n",
       "      <th></th>\n",
       "      <th>userid</th>\n",
       "      <th>version</th>\n",
       "      <th>sum_gamerounds</th>\n",
       "      <th>retention_1</th>\n",
       "      <th>retention_7</th>\n",
       "    </tr>\n",
       "  </thead>\n",
       "  <tbody>\n",
       "    <tr>\n",
       "      <th>0</th>\n",
       "      <td>116</td>\n",
       "      <td>gate_30</td>\n",
       "      <td>3</td>\n",
       "      <td>False</td>\n",
       "      <td>False</td>\n",
       "    </tr>\n",
       "    <tr>\n",
       "      <th>1</th>\n",
       "      <td>337</td>\n",
       "      <td>gate_30</td>\n",
       "      <td>38</td>\n",
       "      <td>True</td>\n",
       "      <td>False</td>\n",
       "    </tr>\n",
       "    <tr>\n",
       "      <th>2</th>\n",
       "      <td>377</td>\n",
       "      <td>gate_40</td>\n",
       "      <td>165</td>\n",
       "      <td>True</td>\n",
       "      <td>False</td>\n",
       "    </tr>\n",
       "    <tr>\n",
       "      <th>3</th>\n",
       "      <td>483</td>\n",
       "      <td>gate_40</td>\n",
       "      <td>1</td>\n",
       "      <td>False</td>\n",
       "      <td>False</td>\n",
       "    </tr>\n",
       "    <tr>\n",
       "      <th>4</th>\n",
       "      <td>488</td>\n",
       "      <td>gate_40</td>\n",
       "      <td>179</td>\n",
       "      <td>True</td>\n",
       "      <td>True</td>\n",
       "    </tr>\n",
       "  </tbody>\n",
       "</table>\n",
       "</div>"
      ],
      "text/plain": [
       "   userid  version  sum_gamerounds  retention_1  retention_7\n",
       "0     116  gate_30               3        False        False\n",
       "1     337  gate_30              38         True        False\n",
       "2     377  gate_40             165         True        False\n",
       "3     483  gate_40               1        False        False\n",
       "4     488  gate_40             179         True         True"
      ]
     },
     "execution_count": 159,
     "metadata": {},
     "output_type": "execute_result"
    }
   ],
   "source": [
    "data.head()"
   ]
  },
  {
   "cell_type": "markdown",
   "id": "edcbe2d5",
   "metadata": {},
   "source": [
    "📊 Part 1: Retention Rate Analysis\n",
    "> Compare 1-Day Retention"
   ]
  },
  {
   "cell_type": "code",
   "execution_count": 163,
   "id": "25577893",
   "metadata": {},
   "outputs": [],
   "source": [
    "# TODO\n",
    "# Insert your code HERE\n",
    "data[\"retention_1\"] = data[\"retention_1\"].astype(\"int\")\n",
    "data[\"retention_7\"] = data[\"retention_7\"].astype(\"int\")"
   ]
  },
  {
   "cell_type": "markdown",
   "id": "d60c1de3",
   "metadata": {},
   "source": [
    "> Statistical Test"
   ]
  },
  {
   "cell_type": "code",
   "execution_count": 175,
   "id": "119db7c3",
   "metadata": {},
   "outputs": [
    {
     "name": "stdout",
     "output_type": "stream",
     "text": [
      "Z-statistic: -1.784, p-value: 0.9628\n"
     ]
    }
   ],
   "source": [
    "n_gate_30 = len(data[data[\"version\"] == \"gate_30\"])\n",
    "n_gate_40 = len(data[data[\"version\"] == \"gate_40\"])\n",
    "\n",
    "success_gate_30 = data.loc[data[\"version\"] == \"gate_30\", \"retention_1\"].sum()\n",
    "success_gate_40 = data.loc[data[\"version\"] == \"gate_40\", \"retention_1\"].sum()\n",
    "\n",
    "stat, pval = proportions_ztest([success_gate_40, success_gate_30], [n_gate_40, n_gate_30], alternative=\"larger\")\n",
    "\n",
    "\n",
    "print(f\"Z-statistic: {stat:.3f}, p-value: {pval:.4f}\")"
   ]
  },
  {
   "cell_type": "markdown",
   "id": "4aad973a",
   "metadata": {},
   "source": [
    "📈 Part 2: Sequential Testing\n",
    ">  Why Sequential Testing?\n",
    "\n",
    "- Avoids \"peeking\" at results prematurely by checking at intervals."
   ]
  },
  {
   "cell_type": "code",
   "execution_count": 178,
   "id": "04f99261",
   "metadata": {},
   "outputs": [],
   "source": [
    "# Insert your code HERE\n",
    "n = 500"
   ]
  },
  {
   "cell_type": "code",
   "execution_count": 183,
   "id": "b5d48501",
   "metadata": {},
   "outputs": [],
   "source": [
    "chunks = np.array_split(data, len(data) // n)"
   ]
  },
  {
   "cell_type": "code",
   "execution_count": null,
   "id": "d3238df3",
   "metadata": {},
   "outputs": [],
   "source": [
    "def z_test(df, ret=\"retention_1\"):\n",
    "    n_gate_30 = len(df[df[\"version\"] == \"gate_30\"])\n",
    "    n_gate_40 = len(df[df[\"version\"] == \"gate_40\"])\n",
    "    \n",
    "    success_gate_30 = df.loc[df[\"version\"] == \"gate_30\", ret].sum()\n",
    "    success_gate_40 = df.loc[df[\"version\"] == \"gate_40\", ret].sum()\n",
    "\n",
    "    _, pval = proportions_ztest([success_gate_40, success_gate_30], [n_gate_40, n_gate_30], alternative=\"larger\")\n",
    "\n",
    "    return pval"
   ]
  },
  {
   "cell_type": "code",
   "execution_count": 188,
   "id": "d0fbfe1e",
   "metadata": {},
   "outputs": [],
   "source": [
    "p_values = []\n",
    "for chunk in chunks:\n",
    "    p_values.append(z_test(chunk))"
   ]
  },
  {
   "cell_type": "code",
   "execution_count": 193,
   "id": "f2ebaea9",
   "metadata": {},
   "outputs": [
    {
     "data": {
      "image/png": "[encoded data removed]",
      "text/plain": [
       "<Figure size 640x480 with 1 Axes>"
      ]
     },
     "metadata": {},
     "output_type": "display_data"
    }
   ],
   "source": [
    "sns.histplot(p_values, bins=20)\n",
    "plt.title(\"Distribution of P-Values\")\n",
    "plt.xlabel(\"P-Value\")\n",
    "plt.ylabel(\"Frequency\")\n",
    "plt.show()"
   ]
  },
  {
   "cell_type": "markdown",
   "id": "44abb17b",
   "metadata": {},
   "source": [
    "⚡ Part 3: Power Analysis\n",
    ">  Determine Required Sample Size\n",
    "3. **Power Analysis**:  \n",
    "   - Calculate the required sample size to detect a 2% difference in retention (α = 0.05, power = 0.8). "
   ]
  },
  {
   "cell_type": "code",
   "execution_count": 211,
   "id": "7906bad8",
   "metadata": {},
   "outputs": [],
   "source": [
    "alpha = 0.05\n",
    "power = 0.8\n",
    "mde = 0.02\n",
    "\n",
    "success_rate = success_gate_30 / n_gate_30\n",
    "\n",
    "alpha_z_score = - stats.norm.ppf(alpha/2)\n",
    "power_z_score = stats.norm.ppf(power)"
   ]
  },
  {
   "cell_type": "code",
   "execution_count": 212,
   "id": "2e6c866b",
   "metadata": {},
   "outputs": [
    {
     "data": {
      "text/plain": [
       "np.float64(9705.748405840144)"
      ]
     },
     "execution_count": 212,
     "metadata": {},
     "output_type": "execute_result"
    }
   ],
   "source": [
    "(2*success_rate*(1-success_rate))/ (mde / (alpha_z_score + power_z_score))**2 # = n"
   ]
  },
  {
   "cell_type": "code",
   "execution_count": 217,
   "id": "e2ce6230",
   "metadata": {},
   "outputs": [
    {
     "name": "stdout",
     "output_type": "stream",
     "text": [
      "Required sample size per group: 9741\n"
     ]
    }
   ],
   "source": [
    "from statsmodels.stats.power import NormalIndPower\n",
    "from statsmodels.stats.proportion import proportion_effectsize\n",
    "\n",
    "# Inputs\n",
    "alpha = 0.05\n",
    "power = 0.8\n",
    "p1 = success_gate_30 / n_gate_30  # baseline rate (e.g., 0.2)\n",
    "p2 = p1 + 0.02  # we want to detect a 2% absolute increase\n",
    "\n",
    "# Compute effect size using Cohen's h\n",
    "effect_size = proportion_effectsize(p1, p2)\n",
    "\n",
    "# Solve for required sample size (per group)\n",
    "analysis = NormalIndPower()\n",
    "n_required = analysis.solve_power(effect_size=effect_size, power=power, alpha=alpha, alternative='two-sided')\n",
    "\n",
    "print(f\"Required sample size per group: {int(n_required)}\")\n"
   ]
  },
  {
   "cell_type": "markdown",
   "id": "f62d1be7",
   "metadata": {},
   "source": [
    "Enjoy & Happy A/B Testing :) ......!"
   ]
  },
  {
   "cell_type": "markdown",
   "id": "9bbc500f",
   "metadata": {},
   "source": []
  }
 ],
 "metadata": {
  "kernelspec": {
   "display_name": "venv",
   "language": "python",
   "name": "python3"
  },
  "language_info": {
   "codemirror_mode": {
    "name": "ipython",
    "version": 3
   },
   "file_extension": ".py",
   "mimetype": "text/x-python",
   "name": "python",
   "nbconvert_exporter": "python",
   "pygments_lexer": "ipython3",
   "version": "3.12.7"
  }
 },
 "nbformat": 4,
 "nbformat_minor": 5
}
